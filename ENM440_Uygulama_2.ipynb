{
  "nbformat": 4,
  "nbformat_minor": 0,
  "metadata": {
    "colab": {
      "name": "ENM440_Uygulama_2.ipynb",
      "provenance": []
    },
    "kernelspec": {
      "name": "python3",
      "display_name": "Python 3"
    },
    "language_info": {
      "name": "python"
    }
  },
  "cells": [
    {
      "cell_type": "code",
      "metadata": {
        "colab": {
          "base_uri": "https://localhost:8080/",
          "height": 313
        },
        "id": "0GLE5fUECaAg",
        "outputId": "353a311e-7cab-4597-891b-525398872270"
      },
      "source": [
        "#step 1: Load the wine  dataset from sklearn datasets\n",
        "from sklearn import datasets\n",
        "import matplotlib.pyplot as plt\n",
        "import numpy as np\n",
        "X,y=datasets.load_wine(return_X_y=True)\n",
        "X.shape\n",
        "np.unique(y,return_counts=True)\n",
        "plt.hist(y)"
      ],
      "execution_count": null,
      "outputs": [
        {
          "output_type": "execute_result",
          "data": {
            "text/plain": [
              "(array([59.,  0.,  0.,  0.,  0., 71.,  0.,  0.,  0., 48.]),\n",
              " array([0. , 0.2, 0.4, 0.6, 0.8, 1. , 1.2, 1.4, 1.6, 1.8, 2. ]),\n",
              " <a list of 10 Patch objects>)"
            ]
          },
          "metadata": {
            "tags": []
          },
          "execution_count": 105
        },
        {
          "output_type": "display_data",
          "data": {
            "image/png": "[encoded data removed]",
            "text/plain": [
              "<Figure size 432x288 with 1 Axes>"
            ]
          },
          "metadata": {
            "tags": [],
            "needs_background": "light"
          }
        }
      ]
    },
    {
      "cell_type": "code",
      "metadata": {
        "colab": {
          "base_uri": "https://localhost:8080/"
        },
        "id": "UqZ60ogoDv5e",
        "outputId": "c677f4bd-6f37-4450-a040-8b694c733ab5"
      },
      "source": [
        "#Step 2: Randomly split the dataset into 20 percent test data and 80 percent training data\n",
        "from sklearn.model_selection import train_test_split\n",
        "print(\"Label proportion in whole dataset :\",np.unique(y),np.unique(y,return_counts=True)[1]*100/y.shape[0])\n",
        "\n",
        "X_train, X_test,y_train,y_test=train_test_split(X,y,test_size=0.3,shuffle=True,random_state=42)\n",
        "print(\"Label proportion in training dataset without stratify :\",np.unique(y_train),np.unique(y_train,return_counts=True)[1]*100/y_train.shape[0])\n",
        "print(\"Label proportion in test dataset without stratify  :\",np.unique(y_test),np.unique(y_test,return_counts=True)[1]*100/y_test.shape[0])\n",
        "\n",
        "X_train, X_test,y_train,y_test=train_test_split(X,y,test_size=0.3,shuffle=True,random_state=42,stratify=y)\n",
        "print(\"Label proportion in train dataset with stratify:\",np.unique(y_train,return_counts=True)[1]*100/y_train.shape[0])\n",
        "print(\"Label proportion in test dataset with stratify:\",np.unique(y_test,return_counts=True)[1]*100/y_test.shape[0])\n"
      ],
      "execution_count": null,
      "outputs": [
        {
          "output_type": "stream",
          "text": [
            "Label proportion in whole dataset : [0 1 2] [33.14606742 39.88764045 26.96629213]\n",
            "Label proportion in training dataset without stratify : [0 1 2] [32.25806452 40.32258065 27.41935484]\n",
            "Label proportion in test dataset without stratify  : [0 1 2] [35.18518519 38.88888889 25.92592593]\n",
            "Label proportion in train dataset with stratify: [33.06451613 40.32258065 26.61290323]\n",
            "Label proportion in test dataset with stratify: [33.33333333 38.88888889 27.77777778]\n"
          ],
          "name": "stdout"
        }
      ]
    },
    {
      "cell_type": "code",
      "metadata": {
        "id": "KXqw1d6OFywc"
      },
      "source": [
        "#Step 3: Standardize the features\n",
        "from sklearn.preprocessing import StandardScaler\n",
        "sc=StandardScaler()\n",
        "X_train_std=sc.fit_transform(X_train)\n",
        "X_test_std=sc.transform(X_test)"
      ],
      "execution_count": null,
      "outputs": []
    },
    {
      "cell_type": "code",
      "metadata": {
        "colab": {
          "base_uri": "https://localhost:8080/"
        },
        "id": "iEAk0Ky_Gvgq",
        "outputId": "f1d04e9b-27c6-4377-de2d-1e1c2e1726f6"
      },
      "source": [
        "#Step 4: Classify data using SVM with C=0.001,kernel=linear\n",
        "from sklearn.svm import SVC\n",
        "\n",
        "clf=SVC(C=0.001,kernel='linear',class_weight='balanced')\n",
        "clf.fit(X_train_std,y_train)"
      ],
      "execution_count": null,
      "outputs": [
        {
          "output_type": "execute_result",
          "data": {
            "text/plain": [
              "SVC(C=0.001, break_ties=False, cache_size=200, class_weight='balanced',\n",
              "    coef0=0.0, decision_function_shape='ovr', degree=3, gamma='scale',\n",
              "    kernel='linear', max_iter=-1, probability=False, random_state=None,\n",
              "    shrinking=True, tol=0.001, verbose=False)"
            ]
          },
          "metadata": {
            "tags": []
          },
          "execution_count": 114
        }
      ]
    },
    {
      "cell_type": "code",
      "metadata": {
        "colab": {
          "base_uri": "https://localhost:8080/"
        },
        "id": "xUILHRG-HenO",
        "outputId": "6c633011-372f-4e55-e2d7-d6b00917c628"
      },
      "source": [
        "#Step 5: Calculate and print the accuracy score of your model (test and train).\n",
        "from sklearn.metrics import accuracy_score\n",
        "y_predict_test=clf.predict(X_test_std)\n",
        "y_predict_train=clf.predict(X_train_std)\n",
        "print(\"test accuracy:\", accuracy_score(y_test,y_predict_test) )\n",
        "print(\"train accuracy:\", accuracy_score(y_train,y_predict_train) )\n"
      ],
      "execution_count": null,
      "outputs": [
        {
          "output_type": "stream",
          "text": [
            "test accuracy: 0.7037037037037037\n",
            "train accuracy: 0.6612903225806451\n"
          ],
          "name": "stdout"
        }
      ]
    },
    {
      "cell_type": "code",
      "metadata": {
        "colab": {
          "base_uri": "https://localhost:8080/",
          "height": 457
        },
        "id": "YOK85NJZIWZk",
        "outputId": "22188dc6-ec44-456d-a7d1-176d0fb95c06"
      },
      "source": [
        "from sklearn.metrics import classification_report,plot_confusion_matrix\n",
        "import matplotlib.pyplot as plt\n",
        "print(classification_report(y_test,y_predict_test))\n",
        "confusion=plot_confusion_matrix(clf,X_test_std,y_test)\n",
        "plt.title(\"Confusion Matrix\")\n",
        "plt.show()"
      ],
      "execution_count": null,
      "outputs": [
        {
          "output_type": "stream",
          "text": [
            "              precision    recall  f1-score   support\n",
            "\n",
            "           0       0.90      1.00      0.95        18\n",
            "           1       1.00      0.24      0.38        21\n",
            "           2       0.52      1.00      0.68        15\n",
            "\n",
            "    accuracy                           0.70        54\n",
            "   macro avg       0.81      0.75      0.67        54\n",
            "weighted avg       0.83      0.70      0.65        54\n",
            "\n"
          ],
          "name": "stdout"
        },
        {
          "output_type": "display_data",
          "data": {
            "image/png": "[encoded data removed]",
            "text/plain": [
              "<Figure size 432x288 with 2 Axes>"
            ]
          },
          "metadata": {
            "tags": [],
            "needs_background": "light"
          }
        }
      ]
    },
    {
      "cell_type": "code",
      "metadata": {
        "colab": {
          "base_uri": "https://localhost:8080/"
        },
        "id": "xxnLPxRoKHjO",
        "outputId": "b89f40ca-2776-43b1-8091-1aaa029a0f82"
      },
      "source": [
        "#Step 7: Classify data using SVM   with C=[ 0.01, 0.1, 1.0, 10.0] and gamma=[ 0.01, 0.1, 1.0, 10.0]] and accuracy score of your model.\n",
        "C=[ 0.01, 0.1, 1.0, 10.0]\n",
        "gamma=[ 0.01, 0.1, 1.0, 10.0]\n",
        "\n",
        "best_score=0.0\n",
        "best_C=0.0\n",
        "best_gamma=0.0\n",
        "best_kernel=''\n",
        "for k in ['linear','rbf']:\n",
        "  for i in C:\n",
        "    for j in gamma:\n",
        "      score=0.0\n",
        "      clf=SVC(C=i,gamma=j,kernel=k,class_weight='balanced')\n",
        "      clf.fit(X_train_std,y_train)\n",
        "      y_predict_train=clf.predict(X_train_std)\n",
        "      score=accuracy_score(y_train,y_predict_train)\n",
        "      if score>=best_score:\n",
        "        best_score=score\n",
        "        best_C=i\n",
        "        best_gamma=j\n",
        "        best_kernel=k\n",
        "print(\"best parameter C:\", best_C,\"best parameter gamma:\",best_gamma,\"best parameter kernel:\",best_kernel )\n",
        "clf_best=SVC(C=best_C,gamma=best_gamma,kernel=best_kernel)\n",
        "clf_best.fit(X_train_std,y_train)\n",
        "y_predict_test=clf_best.predict(X_test_std)\n",
        "print(\"test accuracy:\",accuracy_score(y_test,y_predict_test))\n",
        "print(\"train accuracy:\",best_score)\n"
      ],
      "execution_count": null,
      "outputs": [
        {
          "output_type": "stream",
          "text": [
            "best parameter C: 10.0 best parameter gamma: 10.0 best parameter kernel: rbf\n",
            "test accuracy: 0.3888888888888889\n",
            "train accuracy: 1.0\n"
          ],
          "name": "stdout"
        }
      ]
    },
    {
      "cell_type": "code",
      "metadata": {
        "colab": {
          "base_uri": "https://localhost:8080/",
          "height": 343
        },
        "id": "CPKFm-mdRPp-",
        "outputId": "a6a7daff-4dd3-4272-f66f-5c9cb092fdff"
      },
      "source": [
        "#Step 8: Classify data using SVM   with C=[ 0.01, 0.1, 1.0, 10.0] and gamma=[ 0.01, 0.1, 1.0, 10.0]] and accuracy score of your model. Use validation set\n",
        "from sklearn.model_selection import train_test_split\n",
        "X_train_and_validation,X_test,y_train_and_validation,y_test=train_test_split(X,y,test_size=0.2,shuffle=True,random_state=42,stratify=y)\n",
        "X_train,X_validation,y_train,y_validation=train_test_split(X_train_and_validation,y_train_and_validation,test_size=0.25,random_state=42,stratify=y_train_and_validation)\n",
        "from sklearn.preprocessing import StandardScaler\n",
        "sc=StandardScaler()\n",
        "X_train_std=sc.fit_transform(X_train)\n",
        "X_validation_std=sc.transform(X_validation)\n",
        "X_test_std=sc.transform(X_test)\n",
        "C=[ 0.01, 0.1, 1.0, 10.0]\n",
        "gamma=[ 0.01, 0.1, 1.0, 10.0]\n",
        "\n",
        "best_score=0.0\n",
        "best_C=0.0\n",
        "best_gamma=0.0\n",
        "best_kernel=''\n",
        "for k in ['linear','rbf']:\n",
        "  for i in C:\n",
        "    for j in gamma:\n",
        "      score=0.0\n",
        "      clf=SVC(C=i,gamma=j,kernel=k,class_weight='balanced')\n",
        "      clf.fit(X_train_std,y_train)\n",
        "      y_predict_validation=clf.predict(X_validation_std)\n",
        "      score=accuracy_score(y_validation,y_predict_validation)\n",
        "      if score>=best_score:\n",
        "        best_score=score\n",
        "        best_C=i\n",
        "        best_gamma=j\n",
        "        best_kernel=k\n",
        "print(\"best parameter C:\", best_C,\"best parameter gamma:\",best_gamma,\"best parameter kernel:\",best_kernel )\n",
        "clf_best=SVC(C=best_C,gamma=best_gamma,kernel=best_kernel)\n",
        "\n",
        "clf_best.fit(np.vstack((X_train_std,X_validation_std)),np.hstack((y_train,y_validation)))\n",
        "y_predict_test=clf_best.predict(X_test_std)\n",
        "print(\"test accuracy:\",accuracy_score(y_test,y_predict_test))\n",
        "print(\"validation accuracy:\",best_score)\n",
        "confusion=plot_confusion_matrix(clf_best,X_test_std,y_test)\n",
        "plt.title(\"Confusion Matrix \")\n",
        "plt.show()\n"
      ],
      "execution_count": null,
      "outputs": [
        {
          "output_type": "stream",
          "text": [
            "best parameter C: 1.0 best parameter gamma: 0.01 best parameter kernel: rbf\n",
            "test accuracy: 1.0\n",
            "validation accuracy: 1.0\n"
          ],
          "name": "stdout"
        },
        {
          "output_type": "display_data",
          "data": {
            "image/png": "[encoded data removed]",
            "text/plain": [
              "<Figure size 432x288 with 2 Axes>"
            ]
          },
          "metadata": {
            "tags": [],
            "needs_background": "light"
          }
        }
      ]
    },
    {
      "cell_type": "code",
      "metadata": {
        "colab": {
          "base_uri": "https://localhost:8080/",
          "height": 408
        },
        "id": "o06A4wOFUWLm",
        "outputId": "a91eb62d-253f-4b1c-d56c-aaca2be7bd66"
      },
      "source": [
        "from sklearn.model_selection import GridSearchCV\n",
        "param_range = [ 0.01, 0.1, 1.0, 10.0]\n",
        "clf=SVC(class_weight='balanced')\n",
        "grid={'C':param_range,'gamma':param_range,'kernel':['rbf','linear']}\n",
        "clf_gs=GridSearchCV(estimator=clf,param_grid=grid,cv=10,scoring='accuracy',n_jobs=-1)\n",
        "clf_gs=clf_gs.fit(X_train_std,y_train)\n",
        "print(clf_gs.best_score_)\n",
        "print(clf_gs.best_params_)\n",
        "\n",
        "model_best=clf_gs.best_estimator_\n",
        "model_best.fit(X_train_std,y_train)\n",
        "print(accuracy_score(y_test,model_best.predict(X_test_std)))\n",
        "confusion=plot_confusion_matrix(model_best,X_test_std,y_test)\n",
        "print('Hata matrisi:\\n',confusion.confusion_matrix)\n",
        "\n",
        "plt.title(\"Grid Search Confusion matrix\")\n",
        "plt.show()"
      ],
      "execution_count": null,
      "outputs": [
        {
          "output_type": "stream",
          "text": [
            "0.99\n",
            "{'C': 1.0, 'gamma': 0.1, 'kernel': 'rbf'}\n",
            "0.9722222222222222\n",
            "Hata matrisi:\n",
            " [[12  0  0]\n",
            " [ 0 14  0]\n",
            " [ 0  1  9]]\n"
          ],
          "name": "stdout"
        },
        {
          "output_type": "display_data",
          "data": {
            "image/png": "[encoded data removed]",
            "text/plain": [
              "<Figure size 432x288 with 2 Axes>"
            ]
          },
          "metadata": {
            "tags": [],
            "needs_background": "light"
          }
        }
      ]
    }
  ]
}